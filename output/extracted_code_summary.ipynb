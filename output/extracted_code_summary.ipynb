{
 "cells": [
  {
   "cell_type": "code",
   "execution_count": null,
   "id": "f1472a88",
   "metadata": {},
   "outputs": [],
   "source": [
    "class CodeExtractor:"
   ]
  },
  {
   "cell_type": "markdown",
   "id": "e60f24d1",
   "metadata": {},
   "source": [
    "> Initialize code extractor with filtering options."
   ]
  },
  {
   "cell_type": "code",
   "execution_count": null,
   "id": "1e31607a",
   "metadata": {},
   "outputs": [],
   "source": [
    "    def __init__(self, include_classes, include_methods, exclude_classes, exclude_methods):\n",
    "        self.include_classes = include_classes or set()\n",
    "        self.include_methods = include_methods or set()\n",
    "        self.exclude_classes = exclude_classes or set()\n",
    "        self.exclude_methods = exclude_methods or set()\n",
    "        self.docstrings = []\n",
    "        self.code_blocks = []\n",
    "        self.docstring_blocks = []\n",
    "        self.parent = None\n"
   ]
  },
  {
   "cell_type": "markdown",
   "id": "0239d282",
   "metadata": {},
   "source": [
    "> Check if a class should be included based on filtering options."
   ]
  },
  {
   "cell_type": "code",
   "execution_count": null,
   "id": "90a42804",
   "metadata": {},
   "outputs": [],
   "source": [
    "    def is_class_included(self, class_name):\n",
    "        return (not self.include_classes or class_name in self.include_classes) and class_name not in self.exclude_classes\n"
   ]
  },
  {
   "cell_type": "markdown",
   "id": "b504372c",
   "metadata": {},
   "source": [
    "> Check if a method should be included based on filtering options."
   ]
  },
  {
   "cell_type": "code",
   "execution_count": null,
   "id": "ceb24769",
   "metadata": {},
   "outputs": [],
   "source": [
    "    def is_method_included(self, method_name):\n",
    "        return (not self.include_methods or method_name in self.include_methods) and method_name not in self.exclude_methods\n"
   ]
  },
  {
   "cell_type": "markdown",
   "id": "ea5de214",
   "metadata": {},
   "source": [
    "> Remove docstrings from the body of a method or class."
   ]
  },
  {
   "cell_type": "code",
   "execution_count": null,
   "id": "6fd821d0",
   "metadata": {},
   "outputs": [],
   "source": [
    "    def remove_docstrings(self, body):\n",
    "        if isinstance(body[0], ast.Expr) and isinstance(body[0].value, ast.Str):\n",
    "            self.docstrings.append(body[0].value.s)\n",
    "            body.pop(0)\n",
    "        else:\n",
    "            self.docstrings.append('')\n"
   ]
  },
  {
   "cell_type": "markdown",
   "id": "e93edc9e",
   "metadata": {},
   "source": [
    "> Store the docstring of a class or method."
   ]
  },
  {
   "cell_type": "code",
   "execution_count": null,
   "id": "d5dbad37",
   "metadata": {},
   "outputs": [],
   "source": [
    "    def store_docstring(self, node):\n",
    "        docstring = ast.get_docstring(node)\n",
    "        if isinstance(node, ast.ClassDef):\n",
    "            name = node.name\n",
    "        elif isinstance(node, ast.FunctionDef):\n",
    "            name = node.name\n",
    "        else:\n",
    "            name = None\n",
    "        if docstring:\n",
    "            self.docstrings.append(docstring)\n",
    "            self.docstring_blocks.append((name, docstring))\n",
    "        else:\n",
    "            self.docstrings.append(None)\n",
    "            self.docstring_blocks.append((name, None))\n"
   ]
  },
  {
   "cell_type": "markdown",
   "id": "eedcda9d",
   "metadata": {},
   "source": [
    "> Extract method name and arguments from method definition."
   ]
  },
  {
   "cell_type": "code",
   "execution_count": null,
   "id": "967ecb1b",
   "metadata": {},
   "outputs": [],
   "source": [
    "    @staticmethod\n",
    "    def extract_method_definitions(method):\n",
    "        method_name = method.name\n",
    "        method_args = []\n",
    "        for arg in method.args.args:\n",
    "            arg_name = arg.arg\n",
    "            arg_type = ast.unparse(arg.annotation).strip() if arg.annotation else None\n",
    "            method_args.append(f'{arg_name}: {arg_type}' if arg_type else arg_name)\n",
    "        method_args_str = ', '.join(method_args)\n",
    "        return (method_name, method_args_str)\n"
   ]
  },
  {
   "cell_type": "code",
   "execution_count": null,
   "id": "575a7b6a",
   "metadata": {},
   "outputs": [],
   "source": [
    "    @staticmethod\n",
    "    def extract_decorators(decorator_list, indent_level):\n",
    "        decorators = '\\n'.join([f\"{' ' * 4 * indent_level}@{ast.unparse(d).strip()}\" for d in decorator_list])\n",
    "        return f'{decorators}\\n' if decorators else ''\n"
   ]
  },
  {
   "cell_type": "code",
   "execution_count": null,
   "id": "1a6f38df",
   "metadata": {},
   "outputs": [],
   "source": [
    "    @staticmethod\n",
    "    def extract_code_block(body):\n",
    "        code_block = ast.unparse(body)\n",
    "        return '\\n'.join(['    ' + line if line.strip() else line for line in code_block.splitlines()])\n"
   ]
  },
  {
   "cell_type": "code",
   "execution_count": null,
   "id": "9630bd23",
   "metadata": {},
   "outputs": [],
   "source": [
    "    @staticmethod\n",
    "    def indent_code_block(code, level):\n",
    "        return '\\n'.join(['    ' * level + line if line.strip() else line for line in code.splitlines()])\n"
   ]
  },
  {
   "cell_type": "markdown",
   "id": "b51fffb3",
   "metadata": {},
   "source": [
    "> Visit class definition and extract relevant code and docstrings."
   ]
  },
  {
   "cell_type": "code",
   "execution_count": null,
   "id": "e7b4c6d3",
   "metadata": {},
   "outputs": [],
   "source": [
    "    def visit_ClassDef(self, node):\n",
    "        if self.is_class_included(node.name):\n",
    "            self.store_docstring(node)\n",
    "            class_decorators = self.extract_decorators(node.decorator_list)\n",
    "            self.remove_docstrings(node.body)\n",
    "            class_code_block = f'{class_decorators}class {node.name}:'\n",
    "            self.code_blocks.append(class_code_block)\n",
    "            for method in node.body:\n",
    "                if isinstance(method, ast.FunctionDef):\n",
    "                    if self.is_method_included(method.name):\n",
    "                        if method.name == '__init__' and len(method.body) == 1 and isinstance(method.body[0], ast.Pass):\n",
    "                            continue\n",
    "                        self.store_docstring(method)\n",
    "                        decorators = self.extract_decorators(method.decorator_list, indent_level=1)\n",
    "                        self.remove_docstrings(method.body)\n",
    "                        (method_name, method_args_str) = self.extract_method_definitions(method)\n",
    "                        method_body = self.indent_code_block(self.extract_code_block(method.body), 1)\n",
    "                        method_code_block = f'{decorators}    def {method_name}({method_args_str}):\\n{method_body}\\n'\n",
    "                        self.code_blocks.append(method_code_block)\n",
    "        self.generic_visit(node)\n"
   ]
  },
  {
   "cell_type": "markdown",
   "id": "3cd8f998",
   "metadata": {},
   "source": [
    "> Visit function definition and extract relevant code and docstrings."
   ]
  },
  {
   "cell_type": "code",
   "execution_count": null,
   "id": "855fda85",
   "metadata": {},
   "outputs": [],
   "source": [
    "    def visit_FunctionDef(self, node):\n",
    "        if isinstance(node.parent, ast.ClassDef):\n",
    "            return\n",
    "        if self.is_method_included(node.name):\n",
    "            self.store_docstring(node)\n",
    "            decorators = self.extract_decorators(node.decorator_list)\n",
    "            self.remove_docstrings(node.body)\n",
    "            (function_name, function_args_str) = self.extract_method_definitions(node)\n",
    "            function_body = self.extract_code_block(node.body)\n",
    "            function_code_block = f'{decorators}def {function_name}({function_args_str}):\\n{function_body}\\n'\n",
    "            self.code_blocks.append(function_code_block)\n",
    "        self.generic_visit(node)\n"
   ]
  },
  {
   "cell_type": "markdown",
   "id": "21b7fe8f",
   "metadata": {},
   "source": [
    "> Visit all nodes in the AST and set the parent attribute."
   ]
  },
  {
   "cell_type": "code",
   "execution_count": null,
   "id": "279913bb",
   "metadata": {},
   "outputs": [],
   "source": [
    "    def generic_visit(self, node):\n",
    "        for (field, value) in ast.iter_fields(node):\n",
    "            if isinstance(value, list):\n",
    "                for item in value:\n",
    "                    if isinstance(item, ast.AST):\n",
    "                        item.parent = node\n",
    "                        self.visit(item)\n",
    "            elif isinstance(value, ast.AST):\n",
    "                value.parent = node\n",
    "                self.visit(value)\n"
   ]
  },
  {
   "cell_type": "code",
   "execution_count": null,
   "id": "fb4e30a0",
   "metadata": {},
   "outputs": [],
   "source": [
    "def create_notebook(docstring_blocks, code_blocks, output_file):\n",
    "    nb = nbf.v4.new_notebook()\n",
    "    for (file_docstring_blocks, file_code_blocks) in zip(docstring_blocks, code_blocks):\n",
    "        for ((name, docstring), code) in zip(file_docstring_blocks, file_code_blocks):\n",
    "            if docstring:\n",
    "                formatted_docstring = '> ' + docstring.replace('\\n', '\\n> ')\n",
    "                markdown_docstring_cell = nbf.v4.new_markdown_cell(formatted_docstring)\n",
    "                nb.cells.append(markdown_docstring_cell)\n",
    "            code_cell = nbf.v4.new_code_cell(code)\n",
    "            nb.cells.append(code_cell)\n",
    "    with open(output_file, 'w') as f:\n",
    "        nbf.write(nb, f)\n"
   ]
  },
  {
   "cell_type": "code",
   "execution_count": null,
   "id": "2ff400ec",
   "metadata": {},
   "outputs": [],
   "source": [
    "def extract_code(filenames, output_file, include_classes, include_methods, exclude_classes, exclude_methods):\n",
    "    desired_code_blocks = []\n",
    "    docstrings = []\n",
    "    extractor = CodeExtractor(include_classes, include_methods, exclude_classes, exclude_methods)\n",
    "    file_code_blocks = []\n",
    "    file_docstring_blocks = []\n",
    "    for filename in filenames:\n",
    "        with open(filename, 'r') as f:\n",
    "            code = f.read()\n",
    "        ast_tree = ast.parse(code)\n",
    "        ast.fix_missing_locations(ast_tree)\n",
    "        extractor.visit(ast_tree)\n",
    "        desired_code = '\\n'.join(extractor.code_blocks)\n",
    "        docstrings.extend(extractor.docstrings)\n",
    "        if desired_code:\n",
    "            file_name_only = os.path.basename(filename)\n",
    "            desired_code_blocks.append(f'# {file_name_only}:\\n{desired_code}\\n')\n",
    "        file_code_blocks.append(extractor.code_blocks[:])\n",
    "        file_docstring_blocks.append(extractor.docstring_blocks[:])\n",
    "        extractor.code_blocks.clear()\n",
    "        extractor.docstring_blocks.clear()\n",
    "    with open(output_file, 'w') as f:\n",
    "        f.write('\\n'.join(desired_code_blocks))\n",
    "    extractor.code_blocks = file_code_blocks\n",
    "    extractor.docstring_blocks = file_docstring_blocks\n",
    "    return extractor\n"
   ]
  },
  {
   "cell_type": "code",
   "execution_count": null,
   "id": "1aa7eff6",
   "metadata": {},
   "outputs": [],
   "source": [
    "def filter_files(path, include, exclude, ignore_dirs, ignore_files):\n",
    "    if ignore_dirs is None:\n",
    "        ignore_dirs = ['__pycache__', '.pytest_cache', 'v', 'cache', '.git', '.idea', 'objects', 'info', 'logs', 'refs', 'hooks', 'inspectionProfiles', 'b2', 'pack', '00', '6c', 'e6', 'heads', 'tags', 'remotes', 'origin', 'bb', 'f3', '4b', '72', '88', '46', '08']\n",
    "    if ignore_files is None:\n",
    "        ignore_files = ['*.pyc', '__init__.py', '.DS_Store', '*.yaml', '*.json', '*.txt', '*.md', '*.csv', '*.png', '*.jpg', '.idea', '*.git', '*.gitignore', '*.pylintrc', '.ipynb', '*.ipynb', '*.pkl', '*.pickle', '*code_summary.py*', '*scratch*', '*test*']\n",
    "    filtered_files = []\n",
    "    for (root, _, files) in os.walk(path):\n",
    "        if os.path.basename(root) in ignore_dirs:\n",
    "            continue\n",
    "        for file in files:\n",
    "            filepath = os.path.join(root, file)\n",
    "            if include and (not any((fnmatch.fnmatch(file, pattern) for pattern in include))):\n",
    "                continue\n",
    "            if exclude and any((fnmatch.fnmatch(file, pattern) for pattern in exclude)):\n",
    "                continue\n",
    "            if any((fnmatch.fnmatch(file, pattern) for pattern in ignore_files)):\n",
    "                continue\n",
    "            filtered_files.append(filepath)\n",
    "    return filtered_files\n"
   ]
  },
  {
   "cell_type": "code",
   "execution_count": null,
   "id": "08c95229",
   "metadata": {},
   "outputs": [],
   "source": [
    "def copy_directory_tree(path):\n",
    "    tree = ''\n",
    "    ignore_dirs = {'__pycache__', '.pytest_cache'}\n",
    "    ignore_files = ['*.pyc', '__init__.py', '.DS_Store', '*.yaml', '*.json', '*.txt', '*.md', '*.csv', '*.png', '*.jpg', '.idea', '*.git', '*.gitignore', '*.pylintrc', '.ipynb', '*.ipynb', '*.pkl', '*.pickle', '*code_summary.py*', '*scratch*', '*test*']\n",
    "    for (root, dirs, files) in os.walk(path):\n",
    "        dirs[:] = [d for d in dirs if not d.startswith('.') and d not in ignore_dirs]\n",
    "        level = root.replace(path, '').count(os.sep)\n",
    "        indent = ' ' * 4 * level\n",
    "        dir_name = os.path.basename(root)\n",
    "        tree += f'{indent}{dir_name}/\\n'\n",
    "        subindent = ' ' * 4 * (level + 1)\n",
    "        for file in files:\n",
    "            if any((fnmatch.fnmatch(file, pat) for pat in ignore_files)):\n",
    "                continue\n",
    "            tree += f'{subindent}{file}\\n'\n",
    "    pyperclip.copy(tree)\n",
    "    return tree\n"
   ]
  },
  {
   "cell_type": "code",
   "execution_count": null,
   "id": "3af70711",
   "metadata": {},
   "outputs": [],
   "source": [
    "def extract_py_files(tree_str):\n",
    "    lines = tree_str.strip().split('\\n')\n",
    "    py_files = []\n",
    "    for line in lines:\n",
    "        if line.endswith('.py'):\n",
    "            py_files.append(line.strip())\n",
    "    return py_files\n"
   ]
  },
  {
   "cell_type": "code",
   "execution_count": null,
   "id": "592c1db0",
   "metadata": {},
   "outputs": [],
   "source": [
    "def read_multiline_input(prompt):\n",
    "    print(prompt)\n",
    "    lines = []\n",
    "    while True:\n",
    "        line = input()\n",
    "        if not line:\n",
    "            break\n",
    "        lines.append(line)\n",
    "    return '\\n'.join(lines)\n"
   ]
  },
  {
   "cell_type": "code",
   "execution_count": null,
   "id": "1c2f2ffb",
   "metadata": {},
   "outputs": [],
   "source": [
    "def main():\n",
    "    output_file = '/Users/mhodges/code_summarizer/output/extracted_code_summary.py'\n",
    "    output_notebook = '/Users/mhodges/code_summarizer/output/extracted_code_summary.ipynb'\n",
    "    source_directory = input('Enter the source directory: ')\n",
    "    tree_string = copy_directory_tree(source_directory)\n",
    "    tree_string_input = read_multiline_input('Paste the directory tree string to filter directory code (Press enter twice to finish):')\n",
    "    if not tree_string_input:\n",
    "        tree_string_input = tree_string\n",
    "    include = extract_py_files(tree_string_input)\n",
    "    print('Extracting:', include)\n",
    "    filtered_files = filter_files(source_directory, include=include)\n",
    "    extractor = extract_code(filtered_files, output_file)\n",
    "    create_notebook(extractor.docstring_blocks, extractor.code_blocks, output_notebook)\n"
   ]
  }
 ],
 "metadata": {},
 "nbformat": 4,
 "nbformat_minor": 5
}
